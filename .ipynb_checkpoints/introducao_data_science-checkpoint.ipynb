{
 "cells": [
  {
   "cell_type": "markdown",
   "id": "36b07a9c-887e-43a0-ad48-4f77af4aa4b9",
   "metadata": {
    "jp-MarkdownHeadingCollapsed": true,
    "tags": []
   },
   "source": [
    "# Analisando as notas em geral"
   ]
  },
  {
   "cell_type": "code",
   "execution_count": 18,
   "id": "4ded8a6f-ecbc-460d-8a9c-15fca412793d",
   "metadata": {
    "tags": []
   },
   "outputs": [],
   "source": [
    "import pandas as pd"
   ]
  },
  {
   "cell_type": "code",
   "execution_count": 23,
   "id": "72558fe9",
   "metadata": {},
   "outputs": [],
   "source": [
    "url = 'https://drive.google.com/file/d/1Cuqzr1eK7zMhqQXGJxXrBj0xWN7F4YNW/view?usp=sharing'\n",
    "\n",
    "file_id = url.split('/')[-2]\n",
    "\n",
    "download_url = 'https://drive.google.com/uc?id=' + file_id\n",
    "\n",
    "notas = pd.read_csv(download_url)"
   ]
  },
  {
   "cell_type": "code",
   "execution_count": 24,
   "id": "bdc770c5-ffda-4c9b-83a2-d225e9bcfa0e",
   "metadata": {},
   "outputs": [
    {
     "data": {
      "text/plain": [
       "(100836, 4)"
      ]
     },
     "execution_count": 24,
     "metadata": {},
     "output_type": "execute_result"
    }
   ],
   "source": [
    "notas.shape"
   ]
  },
  {
   "cell_type": "code",
   "execution_count": null,
   "id": "f86719fd-d346-455b-bae2-63c4019217f2",
   "metadata": {},
   "outputs": [],
   "source": [
    "notas.columns = [\"usuarioId\", \"filmeId\", \"nota\", \"momento\"]\n",
    "notas.head()"
   ]
  },
  {
   "cell_type": "code",
   "execution_count": null,
   "id": "5229d2cb-6e64-4a27-993f-444a9170444b",
   "metadata": {},
   "outputs": [],
   "source": [
    "notas[\"nota\"].unique()"
   ]
  },
  {
   "cell_type": "code",
   "execution_count": null,
   "id": "dffbe81c-e5ef-4aa5-969a-bb48e04722bb",
   "metadata": {},
   "outputs": [],
   "source": [
    "notas[\"nota\"].value_counts()"
   ]
  },
  {
   "cell_type": "code",
   "execution_count": null,
   "id": "fb0b7b6b-e284-43c4-9aa7-f2d8974bf770",
   "metadata": {},
   "outputs": [],
   "source": [
    "print(\"Média\", notas[\"nota\"].mean())\n",
    "print(\"Mediana\", notas[\"nota\"].median())"
   ]
  },
  {
   "cell_type": "code",
   "execution_count": null,
   "id": "fb7c69c6-7c99-41a6-8aba-835d6d01cb4d",
   "metadata": {},
   "outputs": [],
   "source": [
    "notas.nota.plot(kind=\"hist\")"
   ]
  },
  {
   "cell_type": "code",
   "execution_count": null,
   "id": "d12ca1e4-e77b-4277-adfe-ee5ba45be51a",
   "metadata": {},
   "outputs": [],
   "source": [
    "notas.nota.describe()"
   ]
  },
  {
   "cell_type": "code",
   "execution_count": null,
   "id": "3a883e4c-35af-4184-bc30-09e14bb0275b",
   "metadata": {},
   "outputs": [],
   "source": [
    "import seaborn as sns"
   ]
  },
  {
   "cell_type": "code",
   "execution_count": null,
   "id": "48b9904b-ba0d-460b-9f54-95c6e080db7a",
   "metadata": {},
   "outputs": [],
   "source": [
    "sns.boxplot(data=notas.nota)"
   ]
  },
  {
   "cell_type": "markdown",
   "id": "6d82e53d-ec1d-4907-a49b-dc857ceab1ae",
   "metadata": {},
   "source": [
    "# Olhando os filmes"
   ]
  },
  {
   "cell_type": "code",
   "execution_count": null,
   "id": "7b45d239-9de9-4036-872e-c4b396aa00af",
   "metadata": {},
   "outputs": [],
   "source": [
    "filmes = pd.read_csv(\"/Users/alessandrofreitas/Downloads/introducao-a-data-science-aula0 2/aula0/ml-latest-small/movies.csv\")\n",
    "filmes.columns = [\"filmeId\", \"titulo\", \"generos\"]\n",
    "filmes.head()"
   ]
  },
  {
   "cell_type": "code",
   "execution_count": null,
   "id": "cba08414-e3a6-4507-b55c-2a0d9e8feb47",
   "metadata": {},
   "outputs": [],
   "source": [
    "notas.head()"
   ]
  },
  {
   "cell_type": "markdown",
   "id": "688f49db-515d-490f-901e-57b59c04b36b",
   "metadata": {},
   "source": [
    "# Analisando algumas notas especificas por filme"
   ]
  },
  {
   "cell_type": "code",
   "execution_count": null,
   "id": "138b1da3-e50b-413a-aa66-cf4878ab3a9d",
   "metadata": {},
   "outputs": [],
   "source": [
    "notas.query(\"filmeId==1\").nota.mean()"
   ]
  },
  {
   "cell_type": "code",
   "execution_count": null,
   "id": "4b351e38-7461-4b07-bd4e-f353121d01d5",
   "metadata": {},
   "outputs": [],
   "source": [
    "notas.query(\"filmeId==2\").nota.mean()"
   ]
  },
  {
   "cell_type": "code",
   "execution_count": null,
   "id": "2c81e75c-361c-41cc-bca9-1464cff3c606",
   "metadata": {},
   "outputs": [],
   "source": [
    "medias_por_filme = notas.groupby(\"filmeId\").mean()[\"nota\"]\n",
    "medias_por_filme.head()"
   ]
  },
  {
   "cell_type": "code",
   "execution_count": null,
   "id": "f4d1bfec-9b31-4bf2-aaf4-0dc84deaff57",
   "metadata": {},
   "outputs": [],
   "source": [
    "medias_por_filme.plot(kind=\"hist\")"
   ]
  },
  {
   "cell_type": "code",
   "execution_count": null,
   "id": "22099064-6803-40c4-9ebc-7898d2604742",
   "metadata": {},
   "outputs": [],
   "source": [
    "import matplotlib.pyplot as plt\n",
    "\n",
    "plt.figure(figsize=(5, 8))\n",
    "sns.boxplot(y=medias_por_filme)"
   ]
  },
  {
   "cell_type": "code",
   "execution_count": null,
   "id": "de4ca2e4-5f6d-4078-aec0-6aba285c62ec",
   "metadata": {},
   "outputs": [],
   "source": [
    "medias_por_filme.describe()"
   ]
  },
  {
   "cell_type": "code",
   "execution_count": null,
   "id": "ec1f1ebd-bb4b-4a5f-8e9c-f85ad5bc28ca",
   "metadata": {},
   "outputs": [],
   "source": [
    "sns.distplot(medias_por_filme)"
   ]
  },
  {
   "cell_type": "code",
   "execution_count": null,
   "id": "5b27625a-5c30-4496-ac1e-5f1c2bf1dab8",
   "metadata": {},
   "outputs": [],
   "source": [
    "import matplotlib.pyplot as plt\n",
    "\n",
    "plt.hist(medias_por_filme)\n",
    "plt.title(\"Histograma das médias dos filmes\")"
   ]
  },
  {
   "cell_type": "code",
   "execution_count": null,
   "id": "81db1586-9fe9-453f-8e50-b455420eea41",
   "metadata": {},
   "outputs": [],
   "source": [
    "tmdb = pd.read_csv(\"/Users/alessandrofreitas/Downloads/archive/tmdb_5000_movies.csv\")\n",
    "tmdb.head()"
   ]
  },
  {
   "cell_type": "code",
   "execution_count": null,
   "id": "95e61b7a-6237-473b-81f7-0051d5083c3e",
   "metadata": {},
   "outputs": [],
   "source": [
    "tmdb.original_language.unique() # categorica nominal"
   ]
  },
  {
   "cell_type": "code",
   "execution_count": null,
   "id": "a2ff4774-0dd4-42f4-b796-4bc0b221e183",
   "metadata": {},
   "outputs": [],
   "source": [
    "# primeiro grau\n",
    "# segundo grau\n",
    "# terceiro grau\n",
    "# 1 grau < 2 grau < 3 grau # categorica ordinal"
   ]
  },
  {
   "cell_type": "code",
   "execution_count": null,
   "id": "a5aef6c6-34e0-44f3-b367-be81273f6797",
   "metadata": {},
   "outputs": [],
   "source": [
    "# budget => orcamento => quantitativa continuo"
   ]
  },
  {
   "cell_type": "code",
   "execution_count": null,
   "id": "51ff40e5-08a2-4652-abc4-d3e44dc097d5",
   "metadata": {},
   "outputs": [],
   "source": [
    "# quantidade de votos => 1, 2, 3, 4, nao tem 2.5 votos\n",
    "# notas do movielens => 0.5, 1, 1.5, ..., 5 nao tem 2.7"
   ]
  },
  {
   "cell_type": "code",
   "execution_count": null,
   "id": "aa1c80e3-d88c-4ebf-afa8-1219f42651b9",
   "metadata": {},
   "outputs": [],
   "source": [
    "tmdb[\"original_language\"].value_counts().index"
   ]
  },
  {
   "cell_type": "code",
   "execution_count": null,
   "id": "1a2bf7ad-d6c0-43fa-979e-e2974eb490ac",
   "metadata": {},
   "outputs": [],
   "source": [
    "contagem_de_lingua = tmdb[\"original_language\"].value_counts().to_frame().reset_index()\n",
    "contagem_de_lingua.columns = [\"original_language\", \"total\"]\n",
    "contagem_de_lingua.head()"
   ]
  },
  {
   "cell_type": "code",
   "execution_count": null,
   "id": "3cf14f25-c78c-48c2-934b-213e87b00119",
   "metadata": {},
   "outputs": [],
   "source": [
    "sns.barplot(x=\"original_language\", y=\"total\", data=contagem_de_lingua)"
   ]
  },
  {
   "cell_type": "code",
   "execution_count": null,
   "id": "9530f23e-b9b0-4e1c-b864-b6a7e6f3f3e8",
   "metadata": {},
   "outputs": [],
   "source": [
    "sns.catplot(x=\"original_language\", kind=\"count\", data=tmdb)"
   ]
  },
  {
   "cell_type": "code",
   "execution_count": null,
   "id": "c361d389-b300-4097-a5d7-0b7de864f957",
   "metadata": {},
   "outputs": [],
   "source": [
    "# Nao usar graficos de pizza em Data Visualization\n",
    "\n",
    "plt.pie(contagem_de_lingua[\"total\"], labels=contagem_de_lingua[\"original_language\"])"
   ]
  },
  {
   "cell_type": "markdown",
   "id": "1bcaa048-7b20-40a3-b0c7-c5b9d81e6105",
   "metadata": {},
   "source": [
    "# Comparando a lingua inglês com as demais linguas"
   ]
  },
  {
   "cell_type": "code",
   "execution_count": null,
   "id": "0a25d4df-733b-436c-869b-9c0284d7e8e9",
   "metadata": {},
   "outputs": [],
   "source": [
    "total_por_lingua = tmdb[\"original_language\"].value_counts()\n",
    "total_geral = total_por_lingua.sum()\n",
    "total_de_ingles = total_por_lingua.loc[\"en\"]\n",
    "total_do_resto = total_geral - total_de_ingles\n",
    "print(total_de_ingles, total_do_resto)"
   ]
  },
  {
   "cell_type": "code",
   "execution_count": null,
   "id": "756fef4d-205c-413a-8204-be382073a559",
   "metadata": {},
   "outputs": [],
   "source": [
    "dados = {\n",
    "    \"lingua\": [\"ingles\", \"outros\"],\n",
    "    \"total\": [total_de_ingles, total_do_resto]\n",
    "}\n",
    "dados = pd.DataFrame(dados)"
   ]
  },
  {
   "cell_type": "code",
   "execution_count": null,
   "id": "3a99fc07-2efd-4055-8e2b-8f58002dcfd2",
   "metadata": {},
   "outputs": [],
   "source": [
    "sns.barplot(x=\"lingua\", y=\"total\", data=dados)"
   ]
  },
  {
   "cell_type": "code",
   "execution_count": null,
   "id": "d2a2e29f-7cff-473d-ae49-dffb48d47983",
   "metadata": {},
   "outputs": [],
   "source": [
    "plt.pie(dados[\"total\"], labels=dados[\"lingua\"])"
   ]
  },
  {
   "cell_type": "code",
   "execution_count": null,
   "id": "b8d48d5b-47a8-4221-9f9a-35617b7cc02b",
   "metadata": {},
   "outputs": [],
   "source": [
    "total_por_lingua_de_outros_filmes = tmdb.query(\"original_language!='en'\")[\"original_language\"].value_counts()\n",
    "total_por_lingua_de_outros_filmes.head()"
   ]
  },
  {
   "cell_type": "code",
   "execution_count": null,
   "id": "521addac-806f-42ea-a6b3-d86fc2f1c798",
   "metadata": {},
   "outputs": [],
   "source": [
    "filmes_sem_lingua_original_em_ingles = tmdb.query(\"original_language != 'en'\")"
   ]
  },
  {
   "cell_type": "code",
   "execution_count": null,
   "id": "37be5bf1-5604-483c-9756-f45108c39773",
   "metadata": {},
   "outputs": [],
   "source": [
    "sns.catplot(x=\"original_language\", \n",
    "            kind=\"count\", \n",
    "            data=filmes_sem_lingua_original_em_ingles, \n",
    "            aspect=2,\n",
    "            palette=\"rocket\",\n",
    "            order=total_por_lingua_de_outros_filmes.index\n",
    ")"
   ]
  },
  {
   "cell_type": "markdown",
   "id": "2be95db6-2677-4e48-a30e-9ebb690542c2",
   "metadata": {},
   "source": [
    "# Revisando o papel da média, mediana, medidas de tendência central, dispersão, desvio padrão, boxplot, histograma."
   ]
  },
  {
   "cell_type": "code",
   "execution_count": null,
   "id": "6da08b18-a8d9-4b75-b836-967a40e3fdd7",
   "metadata": {},
   "outputs": [],
   "source": [
    "filmes.head(2)"
   ]
  },
  {
   "cell_type": "code",
   "execution_count": null,
   "id": "af4338b4-70c1-4db3-8baf-88b8cee1b205",
   "metadata": {},
   "outputs": [],
   "source": [
    "notas_do_toy_story = notas.query(\"filmeId == 1\")\n",
    "notas_do_jumanji = notas.query(\"filmeId == 2\")\n",
    "\n",
    "# imprimindo a quantidade de notas de cada filme\n",
    "print(len(notas_do_toy_story), len(notas_do_jumanji))"
   ]
  },
  {
   "cell_type": "code",
   "execution_count": null,
   "id": "3d40c747-2f38-4353-9a0d-6a9dd32fd76c",
   "metadata": {},
   "outputs": [],
   "source": [
    "print(\"Nota média do Toy Story %.2f\" % notas_do_toy_story.nota.mean())\n",
    "print(\"Nota média do Jumanji %.2f\" % notas_do_jumanji.nota.mean())"
   ]
  },
  {
   "cell_type": "code",
   "execution_count": null,
   "id": "1f4d102e-cbe8-4b67-aefc-da9ab1feac9d",
   "metadata": {},
   "outputs": [],
   "source": [
    "print(\"Nota mediana do Toy Story %.2f\" % notas_do_toy_story.nota.median())\n",
    "print(\"Nota mediana do Jumanji %.2f\" % notas_do_jumanji.nota.median())"
   ]
  },
  {
   "cell_type": "code",
   "execution_count": null,
   "id": "e2c2db77-6e07-460a-aefa-6fe8f4596105",
   "metadata": {},
   "outputs": [],
   "source": [
    "import numpy as np\n",
    "\n",
    "filme1 = np.append(np.array([2.5] * 10), np.array([3.5] * 10))\n",
    "filme2 = np.append(np.array([5] * 10), np.array([1] * 10))"
   ]
  },
  {
   "cell_type": "code",
   "execution_count": null,
   "id": "ef01fee2-45a9-47b0-910c-7b8c456d4c30",
   "metadata": {},
   "outputs": [],
   "source": [
    "print(filme1.mean(), filme2.mean())\n",
    "print(np.std(filme1), np.std(filme2))\n",
    "print(np.median(filme1), np.median(filme2))"
   ]
  },
  {
   "cell_type": "code",
   "execution_count": null,
   "id": "cdcd3a7c-be52-4940-9be4-22c2d6a88bf7",
   "metadata": {},
   "outputs": [],
   "source": [
    "plt.hist(filme1)\n",
    "plt.hist(filme2)"
   ]
  },
  {
   "cell_type": "code",
   "execution_count": null,
   "id": "8a04509e-a8a1-4e1f-b4a0-fd9482468cf0",
   "metadata": {},
   "outputs": [],
   "source": [
    "sns.boxplot(data=[filme1, filme2])"
   ]
  },
  {
   "cell_type": "code",
   "execution_count": null,
   "id": "34c189b9-e750-4408-8701-2bc6accc6a19",
   "metadata": {},
   "outputs": [],
   "source": [
    "sns.boxplot(x=notas_do_toy_story.nota)\n",
    "sns.boxplot(x=notas_do_jumanji.nota)"
   ]
  },
  {
   "cell_type": "code",
   "execution_count": null,
   "id": "196d6a2c-f875-427f-9191-2342713ea5e8",
   "metadata": {},
   "outputs": [],
   "source": [
    "plt.boxplot([notas_do_toy_story.nota, notas_do_jumanji.nota])"
   ]
  },
  {
   "cell_type": "code",
   "execution_count": null,
   "id": "09bc7fae-39d1-4230-83a2-b09df21cb65b",
   "metadata": {},
   "outputs": [],
   "source": [
    "filmes_toy_story_e_jumanji = notas.query(\"filmeId in [1, 2, 3, 4, 5]\")\n",
    "sns.boxplot(x=\"filmeId\", y=\"nota\", data=filmes_toy_story_e_jumanji)"
   ]
  },
  {
   "cell_type": "code",
   "execution_count": null,
   "id": "0b93db39-2590-479f-a61b-2cbea3eaa6d8",
   "metadata": {},
   "outputs": [],
   "source": [
    "print(notas_do_jumanji.nota.std())\n",
    "print(notas_do_toy_story.nota.std())"
   ]
  },
  {
   "cell_type": "code",
   "execution_count": null,
   "id": "9510777a-3ce6-49f7-9695-ee10b7136348",
   "metadata": {},
   "outputs": [],
   "source": []
  }
 ],
 "metadata": {
  "kernelspec": {
   "display_name": "Python 3 (ipykernel)",
   "language": "python",
   "name": "python3"
  },
  "language_info": {
   "codemirror_mode": {
    "name": "ipython",
    "version": 3
   },
   "file_extension": ".py",
   "mimetype": "text/x-python",
   "name": "python",
   "nbconvert_exporter": "python",
   "pygments_lexer": "ipython3",
   "version": "3.9.7"
  }
 },
 "nbformat": 4,
 "nbformat_minor": 5
}
